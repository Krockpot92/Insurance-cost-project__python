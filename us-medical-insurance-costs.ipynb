{
 "cells": [
  {
   "cell_type": "markdown",
   "metadata": {},
   "source": [
    "# U.S. Medical Insurance Costs"
   ]
  },
  {
   "cell_type": "markdown",
   "metadata": {},
   "source": [
    "#### CSV import and conversion into list containing dictionaries \n",
    "\n",
    "example:[{'age': '19', 'sex': 'female', 'bmi': '27.9', 'children': '0', 'smoker': 'yes', 'region': 'southwest', 'charges': '16884.924'}.....]"
   ]
  },
  {
   "cell_type": "code",
   "execution_count": 10,
   "metadata": {
    "scrolled": true
   },
   "outputs": [
    {
     "name": "stdout",
     "output_type": "stream",
     "text": [
      "{'age': '19', 'sex': 'female', 'bmi': '27.9', 'children': '0', 'smoker': 'yes', 'region': 'southwest', 'charges': '16884.924'}\n"
     ]
    }
   ],
   "source": [
    "import csv \n",
    "\n",
    "#converts csv file into list \n",
    "insurance_list = []\n",
    "with open(\"insurance.csv\") as insurance_csv:\n",
    "    insurance_reader = csv.DictReader(insurance_csv)\n",
    "    for insurance in insurance_reader:\n",
    "        insurance_list.append(insurance)\n",
    "        \n",
    "#print(insurance_list[0])\n",
    "    "
   ]
  },
  {
   "cell_type": "markdown",
   "metadata": {},
   "source": [
    "#### Average age of patients (39) "
   ]
  },
  {
   "cell_type": "code",
   "execution_count": 34,
   "metadata": {},
   "outputs": [
    {
     "data": {
      "text/plain": [
       "39"
      ]
     },
     "execution_count": 34,
     "metadata": {},
     "output_type": "execute_result"
    }
   ],
   "source": [
    "# returns average age of patients\n",
    "def average_age(patients):\n",
    "    average_age = 0\n",
    "    for patient in patients:\n",
    "        average_age += int(patient[\"age\"])\n",
    "    return round(average_age/len(patients))\n",
    "        \n",
    "average_age(insurance_list)"
   ]
  },
  {
   "cell_type": "markdown",
   "metadata": {},
   "source": [
    "#### smoker vs non-smoker difference in average price ($23615.96)"
   ]
  },
  {
   "cell_type": "code",
   "execution_count": 28,
   "metadata": {},
   "outputs": [
    {
     "data": {
      "text/plain": [
       "23615.96"
      ]
     },
     "execution_count": 28,
     "metadata": {},
     "output_type": "execute_result"
    }
   ],
   "source": [
    "#smoker vs non-smoker average price difference\n",
    "def smoker_difference(patients):\n",
    "    is_smoker = 0\n",
    "    is_non_smoker = 0\n",
    "    amount_of_smokers= 0\n",
    "    amount_of_non_smokers = 0\n",
    "    \n",
    "    for patient in patients:\n",
    "        if patient[\"smoker\"] == \"yes\":\n",
    "            is_smoker+= float(patient[\"charges\"])\n",
    "            amount_of_smokers+=1\n",
    "            \n",
    "        elif patient[\"smoker\"] == \"no\":\n",
    "            is_non_smoker += float(patient[\"charges\"])\n",
    "            amount_of_non_smokers += 1\n",
    "            \n",
    "    average =  (is_smoker / amount_of_smokers) - (is_non_smoker / amount_of_non_smokers)\n",
    "    return round(average,2)\n",
    "        \n",
    "smoker_difference(insurance_list)"
   ]
  },
  {
   "cell_type": "markdown",
   "metadata": {},
   "source": [
    "#### Regions included with number of patients within them. (southwest: 325,  southeast: 364,  northwest: 325,  northeast: 324)"
   ]
  },
  {
   "cell_type": "code",
   "execution_count": 51,
   "metadata": {},
   "outputs": [
    {
     "name": "stdout",
     "output_type": "stream",
     "text": [
      "{'southwest': 325, 'southeast': 364, 'northwest': 325, 'northeast': 324}\n"
     ]
    }
   ],
   "source": [
    "#patients by area\n",
    "def patient_regions(patients):\n",
    "    regions = {}\n",
    "\n",
    "    for patient in patients:\n",
    "        if patient[\"region\"] not in regions:\n",
    "            regions[patient[\"region\"]] = 1\n",
    "\n",
    "        elif patient[\"region\"] in regions:\n",
    "            regions[patient[\"region\"]] += 1\n",
    "    return regions\n",
    "        \n",
    "        \n",
    "print(patient_regions(insurance_list))          "
   ]
  },
  {
   "cell_type": "code",
   "execution_count": null,
   "metadata": {},
   "outputs": [],
   "source": []
  }
 ],
 "metadata": {
  "kernelspec": {
   "display_name": "Python 3 (ipykernel)",
   "language": "python",
   "name": "python3"
  },
  "language_info": {
   "codemirror_mode": {
    "name": "ipython",
    "version": 3
   },
   "file_extension": ".py",
   "mimetype": "text/x-python",
   "name": "python",
   "nbconvert_exporter": "python",
   "pygments_lexer": "ipython3",
   "version": "3.9.7"
  }
 },
 "nbformat": 4,
 "nbformat_minor": 4
}
